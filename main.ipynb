{
 "cells": [
  {
   "cell_type": "code",
   "execution_count": 17,
   "metadata": {},
   "outputs": [
    {
     "name": "stdout",
     "output_type": "stream",
     "text": [
      "Current working directory: c:\\Users\\Rian\\Desktop\\GitHub\\rag-test\n",
      "API key found: \n"
     ]
    }
   ],
   "source": [
    "from dotenv import load_dotenv\n",
    "import os\n",
    "\n",
    "print(\"Current working directory:\", os.getcwd())  # This will show where Python is looking for the .env file\n",
    "load_dotenv()  # Load environment variables from .env file\n",
    "api_key = os.getenv(\"LANGSMITH_API_KEY\")\n",
    "\n",
    "if api_key is None:\n",
    "    print(\"API key not found in environment variables\")\n",
    "else:\n",
    "    print(\"API key found:\", api_key)"
   ]
  }
 ],
 "metadata": {
  "kernelspec": {
   "display_name": "venv",
   "language": "python",
   "name": "python3"
  },
  "language_info": {
   "codemirror_mode": {
    "name": "ipython",
    "version": 3
   },
   "file_extension": ".py",
   "mimetype": "text/x-python",
   "name": "python",
   "nbconvert_exporter": "python",
   "pygments_lexer": "ipython3",
   "version": "3.11.5"
  }
 },
 "nbformat": 4,
 "nbformat_minor": 2
}
